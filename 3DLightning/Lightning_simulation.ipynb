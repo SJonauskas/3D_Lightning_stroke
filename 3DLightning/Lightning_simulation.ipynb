import numpy as np
import matplotlib.pyplot as plt
import math
import pandas as pd
from mpmath import *
from mpl_toolkits import mplot3d
import plotly.express as px
import plotly.graph_objects as go
